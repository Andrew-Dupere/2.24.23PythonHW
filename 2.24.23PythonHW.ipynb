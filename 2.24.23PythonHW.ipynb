{
 "cells": [
  {
   "cell_type": "markdown",
   "id": "01ec2301",
   "metadata": {},
   "source": [
    ") Create a program that allows a user to continue to add people to an address book until the user quits. Once the user quits, break out of the loop and print out the name and address of everyone in the address book"
   ]
  },
  {
   "cell_type": "code",
   "execution_count": 1,
   "id": "d983ed7b",
   "metadata": {},
   "outputs": [
    {
     "name": "stdout",
     "output_type": "stream",
     "text": [
      "Add an address? y/nn\n"
     ]
    }
   ],
   "source": [
    "from IPython.display import clear_output\n",
    "\n",
    "\n",
    "addressDict= {}\n",
    "\n",
    "ask = input('Add an address? y/n')\n",
    "\n",
    "while ask != 'n':\n",
    "    name = input('Name?')\n",
    "    address = input('Address?')\n",
    "    addressDict[name] = address\n",
    "    \n",
    "    ask = input('Add an address? y/n')\n",
    "    clear_output()\n",
    "\n",
    "else:\n",
    "    for key, value in addressDict.items():\n",
    "        print(f\"Name: {key} Address: {value}\")\n",
    "    "
   ]
  },
  {
   "cell_type": "markdown",
   "id": "8918073f",
   "metadata": {},
   "source": [
    "Billy is trying to figure out if there is a time that he and his team can meet to work on the project. His three teammates each give him a list of times they are available ('HH:MM' 24-hour). Create a function that will take in an original list plus any number of lists of teammate's available times (remember *args) and return a list of times where everyone can meet."
   ]
  },
  {
   "cell_type": "code",
   "execution_count": 2,
   "id": "dac79e2e",
   "metadata": {},
   "outputs": [
    {
     "name": "stdout",
     "output_type": "stream",
     "text": [
      "12:00\n",
      "14:30\n"
     ]
    }
   ],
   "source": [
    "person1 = ['09:00', '10:30', '11:30', '12:00', '13:00', '14:30']\n",
    "person2 = ['09:30', '10:00', '10:30', '12:00', '14:30', '16:00']\n",
    "person3 = ['09:00', '09:30', '11:00', '11:30', '12:00', '13:30', '14:30', '15:00']\n",
    "person4 = ['11:00', '11:30', '12:00', '14:00', '14:30', '16:30', '17:00']\n",
    "\n",
    "availableTime = ['12:00','14:30']\n",
    "\n",
    "def checktimes(availableTime,*persontimes):\n",
    "    for items in availableTime:\n",
    "        for times in persontimes:\n",
    "            if items == times:\n",
    "                return(items)\n",
    "        print(items)\n",
    "\n",
    "checktimes(availableTime,person1,person2,person3,person4)\n",
    "        "
   ]
  }
 ],
 "metadata": {
  "kernelspec": {
   "display_name": "Python 3 (ipykernel)",
   "language": "python",
   "name": "python3"
  },
  "language_info": {
   "codemirror_mode": {
    "name": "ipython",
    "version": 3
   },
   "file_extension": ".py",
   "mimetype": "text/x-python",
   "name": "python",
   "nbconvert_exporter": "python",
   "pygments_lexer": "ipython3",
   "version": "3.9.13"
  }
 },
 "nbformat": 4,
 "nbformat_minor": 5
}
